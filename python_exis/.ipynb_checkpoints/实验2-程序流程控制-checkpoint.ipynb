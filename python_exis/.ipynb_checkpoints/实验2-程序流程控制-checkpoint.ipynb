{
 "cells": [
  {
   "cell_type": "markdown",
   "metadata": {},
   "source": [
    "## <center>实验二 程序流程控制</center>"
   ]
  },
  {
   "cell_type": "markdown",
   "metadata": {},
   "source": [
    "姓名：陈雨晗              学号：6109120135             班级：计算机206   "
   ]
  },
  {
   "cell_type": "markdown",
   "metadata": {},
   "source": [
    "### 一、实验目的\n",
    "1. 了解Python程序的基本语法和编程规范。\n",
    "2. 掌握Python的基础本数据类型、变量、运算符、表达式和语句等知识。\n",
    "3. 掌握顺序结构、选择结构和循环结构三种流程控制语句。\n",
    "4. 掌握Python帮助文档的使用方法。"
   ]
  },
  {
   "cell_type": "markdown",
   "metadata": {},
   "source": [
    "### 二、实验内容\n",
    "1. 编写Python程序，分别输入长、宽、高，计算并输出长方体的面积和体积。\n",
    "2. 已知整数0占用24字节，其他较小整数占28字节，然后随着值的增加以4字节为单位增大内存，编写程序验证int类型所占内存空间的变化情况。\n",
    "3. 查看Python的帮助文档，简要介绍其包含的主要内容。利用在线帮助查看内置的输入函数input()和输出函数print()的语法格式，说明各参数的具体含义。\n",
    "4. 完成教材第60页课后练习的第3题到第8题。"
   ]
  },
  {
   "cell_type": "markdown",
   "metadata": {},
   "source": [
    "### 三 实验步骤"
   ]
  },
  {
   "cell_type": "markdown",
   "metadata": {},
   "source": [
    "1. 编写Python程序，分别输入长、宽、高，计算并输出长方体的面积和体积。"
   ]
  },
  {
   "cell_type": "code",
   "execution_count": 1,
   "metadata": {},
   "outputs": [
    {
     "name": "stdin",
     "output_type": "stream",
     "text": [
      "长方体的长是： 3\n",
      "长方体的宽是： 4\n",
      "长方体的高是： 5\n"
     ]
    },
    {
     "name": "stdout",
     "output_type": "stream",
     "text": [
      "长方体的面积是： 94.0\n",
      "长方体的体积是： 60.0\n"
     ]
    }
   ],
   "source": [
    "a=float(input('长方体的长是：'))\n",
    "b=float(input('长方体的宽是：'))\n",
    "h=float(input('长方体的高是：'))\n",
    "s=(a*b+a*h+b*h)*2\n",
    "v=a*b*h\n",
    "print('长方体的面积是：',s)\n",
    "print('长方体的体积是：',v)\n"
   ]
  },
  {
   "cell_type": "markdown",
   "metadata": {},
   "source": [
    "2. 已知整数0占用24字节，其他较小整数占28字节，然后随着值的增加以4字节为单位增大内存，编写程序验证int类型所占内存空间的变化情况。"
   ]
  },
  {
   "cell_type": "code",
   "execution_count": 5,
   "metadata": {},
   "outputs": [
    {
     "name": "stdin",
     "output_type": "stream",
     "text": [
      " 1073741824\n"
     ]
    },
    {
     "data": {
      "text/plain": [
       "32"
      ]
     },
     "execution_count": 5,
     "metadata": {},
     "output_type": "execute_result"
    }
   ],
   "source": [
    "import sys\n",
    "a=int(input())\n",
    "sys.getsizeof(a)"
   ]
  },
  {
   "cell_type": "markdown",
   "metadata": {},
   "source": [
    "3. 查看Python的帮助文档，简要介绍其包含的主要内容。利用在线帮助查看内置的输入函数input()和输出函数print()的语法格式，说明各参数的具体含义。"
   ]
  },
  {
   "cell_type": "code",
   "execution_count": null,
   "metadata": {},
   "outputs": [],
   "source": [
    "help()"
   ]
  },
  {
   "cell_type": "markdown",
   "metadata": {},
   "source": [
    "help()函数可以查看函数或模块用途的详细说明"
   ]
  },
  {
   "cell_type": "code",
   "execution_count": 1,
   "metadata": {},
   "outputs": [
    {
     "name": "stdout",
     "output_type": "stream",
     "text": [
      "Help on method raw_input in module ipykernel.kernelbase:\n",
      "\n",
      "raw_input(prompt='') method of ipykernel.ipkernel.IPythonKernel instance\n",
      "    Forward raw_input to frontends\n",
      "    \n",
      "    Raises\n",
      "    ------\n",
      "    StdinNotImplementedError if active frontend doesn't support stdin.\n",
      "\n"
     ]
    }
   ],
   "source": [
    "help(input)"
   ]
  },
  {
   "cell_type": "code",
   "execution_count": 2,
   "metadata": {},
   "outputs": [
    {
     "name": "stdout",
     "output_type": "stream",
     "text": [
      "Help on built-in function print in module builtins:\n",
      "\n",
      "print(...)\n",
      "    print(value, ..., sep=' ', end='\\n', file=sys.stdout, flush=False)\n",
      "    \n",
      "    Prints the values to a stream, or to sys.stdout by default.\n",
      "    Optional keyword arguments:\n",
      "    file:  a file-like object (stream); defaults to the current sys.stdout.\n",
      "    sep:   string inserted between values, default a space.\n",
      "    end:   string appended after the last value, default a newline.\n",
      "    flush: whether to forcibly flush the stream.\n",
      "\n"
     ]
    }
   ],
   "source": [
    "help(print)"
   ]
  },
  {
   "cell_type": "markdown",
   "metadata": {},
   "source": [
    "input()函数等待用户从键盘输入，接收一个字符串，包括空格，都可以输入。只有回车不接受，作为结束符。格式：\n",
    "input([prompt])\n",
    "其中，prompt是可选的，可作为提示信息。\n",
    "返回值是从键盘输入的一行文本。\n",
    "用户输入的任何内容Python 都认为是一个字符串，如果需要其他类型就需要转换函数"
   ]
  },
  {
   "cell_type": "markdown",
   "metadata": {},
   "source": [
    "print(*objects, sep=' ', end='\\n', file=sys.stdout, flush=False)\n",
    "将 objects 打印到 file 指定的文本流，以 sep 分隔并在末尾加上 end。可选项 sep, end, file 和 flush 如果存在，它们必须以关键字参数的形式给出。\n",
    "参数描述:\n",
    "objects 要输出的对象，是复数形式，表示可以一次输出多个对象。输出多个对象时，需要用 , 分隔。\n",
    "sep 用来间隔多个对象，默认值是一个空格。\n",
    "end 用来设定以什么结尾。默认值是换行符 \\n，我们可以换成其他字符串。\n",
    "file    要写入的文件对象，默认是标准输出。\n",
    "flush   输出是否被缓存通常决定于 file，但如果 flush 关键字参数为 True，流会被强制刷新。\n",
    "print()无返回值。"
   ]
  },
  {
   "cell_type": "markdown",
   "metadata": {},
   "source": [
    "4. 编写程序输出公元2000到公元3000直接的所有润年。"
   ]
  },
  {
   "cell_type": "code",
   "execution_count": 3,
   "metadata": {},
   "outputs": [
    {
     "name": "stdout",
     "output_type": "stream",
     "text": [
      "2000\n",
      "2004\n",
      "2008\n",
      "2012\n",
      "2016\n",
      "2020\n",
      "2024\n",
      "2028\n",
      "2032\n",
      "2036\n",
      "2040\n",
      "2044\n",
      "2048\n",
      "2052\n",
      "2056\n",
      "2060\n",
      "2064\n",
      "2068\n",
      "2072\n",
      "2076\n",
      "2080\n",
      "2084\n",
      "2088\n",
      "2092\n",
      "2096\n",
      "2104\n",
      "2108\n",
      "2112\n",
      "2116\n",
      "2120\n",
      "2124\n",
      "2128\n",
      "2132\n",
      "2136\n",
      "2140\n",
      "2144\n",
      "2148\n",
      "2152\n",
      "2156\n",
      "2160\n",
      "2164\n",
      "2168\n",
      "2172\n",
      "2176\n",
      "2180\n",
      "2184\n",
      "2188\n",
      "2192\n",
      "2196\n",
      "2204\n",
      "2208\n",
      "2212\n",
      "2216\n",
      "2220\n",
      "2224\n",
      "2228\n",
      "2232\n",
      "2236\n",
      "2240\n",
      "2244\n",
      "2248\n",
      "2252\n",
      "2256\n",
      "2260\n",
      "2264\n",
      "2268\n",
      "2272\n",
      "2276\n",
      "2280\n",
      "2284\n",
      "2288\n",
      "2292\n",
      "2296\n",
      "2304\n",
      "2308\n",
      "2312\n",
      "2316\n",
      "2320\n",
      "2324\n",
      "2328\n",
      "2332\n",
      "2336\n",
      "2340\n",
      "2344\n",
      "2348\n",
      "2352\n",
      "2356\n",
      "2360\n",
      "2364\n",
      "2368\n",
      "2372\n",
      "2376\n",
      "2380\n",
      "2384\n",
      "2388\n",
      "2392\n",
      "2396\n",
      "2400\n",
      "2404\n",
      "2408\n",
      "2412\n",
      "2416\n",
      "2420\n",
      "2424\n",
      "2428\n",
      "2432\n",
      "2436\n",
      "2440\n",
      "2444\n",
      "2448\n",
      "2452\n",
      "2456\n",
      "2460\n",
      "2464\n",
      "2468\n",
      "2472\n",
      "2476\n",
      "2480\n",
      "2484\n",
      "2488\n",
      "2492\n",
      "2496\n",
      "2504\n",
      "2508\n",
      "2512\n",
      "2516\n",
      "2520\n",
      "2524\n",
      "2528\n",
      "2532\n",
      "2536\n",
      "2540\n",
      "2544\n",
      "2548\n",
      "2552\n",
      "2556\n",
      "2560\n",
      "2564\n",
      "2568\n",
      "2572\n",
      "2576\n",
      "2580\n",
      "2584\n",
      "2588\n",
      "2592\n",
      "2596\n",
      "2604\n",
      "2608\n",
      "2612\n",
      "2616\n",
      "2620\n",
      "2624\n",
      "2628\n",
      "2632\n",
      "2636\n",
      "2640\n",
      "2644\n",
      "2648\n",
      "2652\n",
      "2656\n",
      "2660\n",
      "2664\n",
      "2668\n",
      "2672\n",
      "2676\n",
      "2680\n",
      "2684\n",
      "2688\n",
      "2692\n",
      "2696\n",
      "2704\n",
      "2708\n",
      "2712\n",
      "2716\n",
      "2720\n",
      "2724\n",
      "2728\n",
      "2732\n",
      "2736\n",
      "2740\n",
      "2744\n",
      "2748\n",
      "2752\n",
      "2756\n",
      "2760\n",
      "2764\n",
      "2768\n",
      "2772\n",
      "2776\n",
      "2780\n",
      "2784\n",
      "2788\n",
      "2792\n",
      "2796\n",
      "2800\n",
      "2804\n",
      "2808\n",
      "2812\n",
      "2816\n",
      "2820\n",
      "2824\n",
      "2828\n",
      "2832\n",
      "2836\n",
      "2840\n",
      "2844\n",
      "2848\n",
      "2852\n",
      "2856\n",
      "2860\n",
      "2864\n",
      "2868\n",
      "2872\n",
      "2876\n",
      "2880\n",
      "2884\n",
      "2888\n",
      "2892\n",
      "2896\n",
      "2904\n",
      "2908\n",
      "2912\n",
      "2916\n",
      "2920\n",
      "2924\n",
      "2928\n",
      "2932\n",
      "2936\n",
      "2940\n",
      "2944\n",
      "2948\n",
      "2952\n",
      "2956\n",
      "2960\n",
      "2964\n",
      "2968\n",
      "2972\n",
      "2976\n",
      "2980\n",
      "2984\n",
      "2988\n",
      "2992\n",
      "2996\n"
     ]
    }
   ],
   "source": [
    "for i in range(2000,3001):\n",
    "    if i%4==0 and i%100!=0 or i%400==0:\n",
    "        print(i)"
   ]
  },
  {
   "cell_type": "markdown",
   "metadata": {},
   "source": [
    "5. 编写程序输出0-90度之间每隔5度是的角度以及正、余弦函数值。"
   ]
  },
  {
   "cell_type": "code",
   "execution_count": 4,
   "metadata": {},
   "outputs": [
    {
     "name": "stdout",
     "output_type": "stream",
     "text": [
      "sin(0)=0.0,  cos(0)=1.0\n",
      "sin(5)=0.08715574274765817,  cos(5)=0.9961946980917455\n",
      "sin(10)=0.17364817766693033,  cos(10)=0.984807753012208\n",
      "sin(15)=0.25881904510252074,  cos(15)=0.9659258262890683\n",
      "sin(20)=0.3420201433256687,  cos(20)=0.9396926207859084\n",
      "sin(25)=0.42261826174069944,  cos(25)=0.9063077870366499\n",
      "sin(30)=0.49999999999999994,  cos(30)=0.8660254037844387\n",
      "sin(35)=0.573576436351046,  cos(35)=0.8191520442889918\n",
      "sin(40)=0.6427876096865393,  cos(40)=0.766044443118978\n",
      "sin(45)=0.7071067811865476,  cos(45)=0.7071067811865476\n",
      "sin(50)=0.766044443118978,  cos(50)=0.6427876096865394\n",
      "sin(55)=0.8191520442889918,  cos(55)=0.573576436351046\n",
      "sin(60)=0.8660254037844386,  cos(60)=0.5000000000000001\n",
      "sin(65)=0.9063077870366499,  cos(65)=0.42261826174069944\n",
      "sin(70)=0.9396926207859083,  cos(70)=0.3420201433256688\n",
      "sin(75)=0.9659258262890683,  cos(75)=0.25881904510252074\n",
      "sin(80)=0.984807753012208,  cos(80)=0.17364817766693041\n",
      "sin(85)=0.9961946980917455,  cos(85)=0.08715574274765814\n",
      "sin(90)=1.0,  cos(90)=6.123233995736766e-17\n"
     ]
    }
   ],
   "source": [
    "import math\n",
    "for i in range(0,90+1,5):\n",
    "    ii=math.radians(i)\n",
    "    print('sin({})={},  cos({})={}'.format(i,math.sin(ii),i,math.cos(ii)))"
   ]
  }
 ],
 "metadata": {
  "kernelspec": {
   "display_name": "Python 3 (ipykernel)",
   "language": "python",
   "name": "python3"
  },
  "language_info": {
   "codemirror_mode": {
    "name": "ipython",
    "version": 3
   },
   "file_extension": ".py",
   "mimetype": "text/x-python",
   "name": "python",
   "nbconvert_exporter": "python",
   "pygments_lexer": "ipython3",
   "version": "3.9.7"
  }
 },
 "nbformat": 4,
 "nbformat_minor": 4
}
