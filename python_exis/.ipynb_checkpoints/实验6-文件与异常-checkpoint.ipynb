{
 "cells": [
  {
   "cell_type": "markdown",
   "metadata": {},
   "source": [
    "## <center>实验六 文件与异常</center>"
   ]
  },
  {
   "cell_type": "markdown",
   "metadata": {},
   "source": [
    "姓名：陈雨晗       学号：6109120135                 班级：计算机206   "
   ]
  },
  {
   "cell_type": "markdown",
   "metadata": {},
   "source": [
    "### 一、实验目的\n",
    "1. 了解文件的基本概念，掌握文件的打开、关闭与读写等基本操作方法。\n",
    "2. 了解异常的概念，掌握常见的异常类型及其处理方法。\n",
    "3. 掌握文件与异常的基本应用。\n"
   ]
  },
  {
   "cell_type": "markdown",
   "metadata": {},
   "source": [
    "### 二、实验内容\n",
    "1. 下载一篇txt文件格式英文短文，编写程序统计该文本中出现频率排名前10的单词并生成一个词频文件。\n",
    "2. 完成教材157页的课后练习第1题。\n"
   ]
  },
  {
   "cell_type": "markdown",
   "metadata": {},
   "source": [
    "### 三 实验步骤"
   ]
  },
  {
   "cell_type": "markdown",
   "metadata": {},
   "source": [
    "1. 下载一篇txt文件格式英文短文，编写程序统计该文本中出现频率排名前10的单词并生成一个词频文件。"
   ]
  },
  {
   "cell_type": "code",
   "execution_count": null,
   "metadata": {},
   "outputs": [],
   "source": [
    "def gettext():\n",
    "    txt = open(\"piao.txt\",\"r\",errors='ignore').read()\n",
    "    txt = txt.lower()\n",
    "    for ch in '!\"#$&()*+,-./:;<=>?@[\\\\]^_{|}·~‘’':\n",
    "        txt = txt.replace(ch,\"\")\n",
    "return txt\n",
    "\n",
    "txt = gettext()\n",
    "words = txt.split()\n",
    "counts = {}\n",
    "for word in words:\n",
    "    counts[word] = counts.get(word,0) + 1\n",
    "\n",
    "items = list(counts.items())\n",
    "items.sort(key=lambda x:x[1],reverse=True)\n",
    "for i in range(10):\n",
    "    word,count = items[i]\n",
    "    print(\"{0:<10}{1:>5}\".format(word,count))"
   ]
  },
  {
   "attachments": {
    "ee767348-b594-42c0-9a09-f45805a7c7fb.png": {
     "image/png": "[encoded data removed]"
    }
   },
   "cell_type": "markdown",
   "metadata": {},
   "source": [
    "![image.png](attachment:ee767348-b594-42c0-9a09-f45805a7c7fb.png)"
   ]
  },
  {
   "cell_type": "markdown",
   "metadata": {},
   "source": [
    "2. 完成教材157页的课后练习第1题。"
   ]
  },
  {
   "cell_type": "code",
   "execution_count": 2,
   "metadata": {},
   "outputs": [
    {
     "name": "stdout",
     "output_type": "stream",
     "text": [
      "文件不存在，请确认！\n",
      "\n"
     ]
    }
   ],
   "source": [
    "import csv\n",
    "try:\n",
    "    with open(\"e:通讯录.csv.txt\",'r',encoding='utf-8') as t:\n",
    "        reader=csv.reader(t)\n",
    "        for row in reader:\n",
    "            if row[0]=='大王':\n",
    "                re=row\n",
    "                break\n",
    "        print(\"大王的手机号是：\",re[1])\n",
    "        print(\"大王的QQ是：\",re[2])\n",
    "        print(\"大王的微信是：\",re[3])\n",
    "except IOError:\n",
    "    print(\"文件不存在，请确认！\\n\")\n",
    "except NameError:\n",
    "    print(\"大王同学不在通讯录中。\")"
   ]
  },
  {
   "cell_type": "markdown",
   "metadata": {},
   "source": [
    "大王的手机号是：13914000004\n",
    "大王的QQ是：18191230002\n",
    "大王的微信是：jack_w"
   ]
  },
  {
   "cell_type": "markdown",
   "metadata": {},
   "source": [
    "### 四 实验总结"
   ]
  },
  {
   "cell_type": "markdown",
   "metadata": {},
   "source": [
    "初步了解文件的基本概念，掌握文件的打开、关闭与读写等基本操作方法。了解异常的概念，初步掌握常见的异常类型及其处理方法。\n",
    "并且学会文件的导入和生成，以及基本的文件创建、删除和读写能力。"
   ]
  }
 ],
 "metadata": {
  "kernelspec": {
   "display_name": "Python 3 (ipykernel)",
   "language": "python",
   "name": "python3"
  },
  "language_info": {
   "codemirror_mode": {
    "name": "ipython",
    "version": 3
   },
   "file_extension": ".py",
   "mimetype": "text/x-python",
   "name": "python",
   "nbconvert_exporter": "python",
   "pygments_lexer": "ipython3",
   "version": "3.9.7"
  }
 },
 "nbformat": 4,
 "nbformat_minor": 4
}
