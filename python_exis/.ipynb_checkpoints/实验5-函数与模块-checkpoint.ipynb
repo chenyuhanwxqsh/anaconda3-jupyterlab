{
 "cells": [
  {
   "cell_type": "markdown",
   "metadata": {},
   "source": [
    "## <center>实验五 函数与模块</center>"
   ]
  },
  {
   "cell_type": "markdown",
   "metadata": {},
   "source": [
    "姓名：陈雨晗                 学号：6109120135                   班级：计算机206   "
   ]
  },
  {
   "cell_type": "markdown",
   "metadata": {},
   "source": [
    "### 一、实验目的\n",
    "1. 了解函数的基本概念，掌握函数的声明和调用方法和python内置函数的使用。\n",
    "2. 了解变量的作用域，掌握局部变量和全局变量的使用。\n",
    "3. 了解递归函数、匿名函数的概念和使用。\n",
    "4. 了解模块化的程序设计方法，学习通过调试窗口查看变量的值。"
   ]
  },
  {
   "cell_type": "markdown",
   "metadata": {},
   "source": [
    "### 二、实验内容\n",
    "1. 练习Python函数的声明和调用，学习python内置函数的使用。\n",
    "2. 练习Python模块化的程序设计与调试的方法，在调试窗口中查看变量的值。\n",
    "3. 利用匿名函数和递归函数进行程序。\n",
    "4. 完成教材139页的课后练习第4、5题。\n"
   ]
  },
  {
   "cell_type": "markdown",
   "metadata": {},
   "source": [
    "### 三 实验步骤"
   ]
  },
  {
   "cell_type": "markdown",
   "metadata": {},
   "source": [
    "1. 练习Python函数的声明和调用，学习python内置函数的使用。  "
   ]
  },
  {
   "cell_type": "code",
   "execution_count": 1,
   "metadata": {},
   "outputs": [
    {
     "name": "stdout",
     "output_type": "stream",
     "text": [
      "hello python\n"
     ]
    }
   ],
   "source": [
    "def custom_print():\n",
    "    print('hello python')\n",
    "custom_print()"
   ]
  },
  {
   "cell_type": "markdown",
   "metadata": {},
   "source": [
    "2. 练习Python模块化的程序设计与调试的方法，在调试窗口中查看变量的值。"
   ]
  },
  {
   "cell_type": "code",
   "execution_count": 2,
   "metadata": {},
   "outputs": [
    {
     "name": "stdout",
     "output_type": "stream",
     "text": [
      "3.141592653589793\n"
     ]
    }
   ],
   "source": [
    "import math\n",
    "print(math.pi)"
   ]
  },
  {
   "cell_type": "markdown",
   "metadata": {},
   "source": [
    "3. 利用匿名函数和递归函数进行程序。"
   ]
  },
  {
   "cell_type": "code",
   "execution_count": 6,
   "metadata": {},
   "outputs": [
    {
     "name": "stdout",
     "output_type": "stream",
     "text": [
      "Value of total: 30\n",
      "5的阶乘： 120\n"
     ]
    }
   ],
   "source": [
    "#匿名函数\n",
    "sum = lambda arg1,arg2 : arg1+arg2\n",
    "print('Value of total:',sum(10,20))\n",
    "#递归函数\n",
    "def factorial(num):\n",
    "    if num>=1:\n",
    "        result=num*factorial(num-1)\n",
    "    else:\n",
    "        result=1\n",
    "    return result\n",
    "print('5的阶乘：',factorial(5))"
   ]
  },
  {
   "cell_type": "markdown",
   "metadata": {},
   "source": [
    "4. 完成教材139页的课后练习第4题。"
   ]
  },
  {
   "cell_type": "code",
   "execution_count": 11,
   "metadata": {},
   "outputs": [
    {
     "name": "stdout",
     "output_type": "stream",
     "text": [
      "{'小李': 65, '小张': 83, '小陈': 90, '小杨': 73}\n"
     ]
    }
   ],
   "source": [
    "def avg(lst):\n",
    "    return int(sum(lst)/len(lst))\n",
    "s={'小李':[77,54],'小张':[89,66,78,99],'小陈':[90],'小杨':[69,58,93]}\n",
    "\n",
    "res={k:avg(v) for k,v in s.items()}\n",
    "print(res)"
   ]
  },
  {
   "cell_type": "markdown",
   "metadata": {},
   "source": [
    "5. 完成教材139页的课后练习第5题。"
   ]
  },
  {
   "cell_type": "code",
   "execution_count": 12,
   "metadata": {},
   "outputs": [
    {
     "name": "stdout",
     "output_type": "stream",
     "text": [
      "03\n"
     ]
    }
   ],
   "source": [
    "#（1）\n",
    "dict={'01':[67,88,45],'02':[97,68,85],'03':[97,98,95],'04':[67,48,45],'05':[82,58,75],'06':[96,49,65]}\n",
    "for i in list(dict.keys()):\n",
    "    scores = dict[i]\n",
    "    if scores[0]>=85 and scores[1]>=85 and scores[2]>=85:\n",
    "        print(i)"
   ]
  },
  {
   "cell_type": "code",
   "execution_count": 13,
   "metadata": {},
   "outputs": [
    {
     "name": "stdout",
     "output_type": "stream",
     "text": [
      "01 66.67\n",
      "02 83.33\n",
      "03 96.67\n",
      "04 53.33\n",
      "05 71.67\n",
      "06 70.0\n"
     ]
    }
   ],
   "source": [
    "#（2）\n",
    "dict={'01':[67,88,45],'02':[97,68,85],'03':[97,98,95],'04':[67,48,45],'05':[82,58,75],'06':[96,49,65]}\n",
    "for i in list(dict.keys()):\n",
    "    print(i, round(sum(dict[i])/len(dict[i]),2))\n"
   ]
  },
  {
   "cell_type": "code",
   "execution_count": 16,
   "metadata": {},
   "outputs": [
    {
     "name": "stdout",
     "output_type": "stream",
     "text": [
      "['03', '02', '05', '06', '01', '04']\n"
     ]
    }
   ],
   "source": [
    "#(3)\n",
    "def main(dict):\n",
    "    result = sorted(dict.items(), key=lambda x: sum(x[1]), reverse=True)\n",
    "    print([i[0] for i in result])\n",
    "dict={'01':[67,88,45],'02':[97,68,85],'03':[97,98,95],\n",
    "      '04':[67,48,45],'05':[82,58,75],'06':[96,49,65]}\n",
    "main(dict)\n"
   ]
  },
  {
   "cell_type": "markdown",
   "metadata": {},
   "source": [
    "### 四 实验总结"
   ]
  },
  {
   "cell_type": "markdown",
   "metadata": {},
   "source": [
    "初步了解函数的基本概念，以及初步掌握函数的声明和调用方法，对于python内置函数的使用大致了解和基础使用。"
   ]
  }
 ],
 "metadata": {
  "kernelspec": {
   "display_name": "Python 3 (ipykernel)",
   "language": "python",
   "name": "python3"
  },
  "language_info": {
   "codemirror_mode": {
    "name": "ipython",
    "version": 3
   },
   "file_extension": ".py",
   "mimetype": "text/x-python",
   "name": "python",
   "nbconvert_exporter": "python",
   "pygments_lexer": "ipython3",
   "version": "3.9.7"
  }
 },
 "nbformat": 4,
 "nbformat_minor": 4
}
