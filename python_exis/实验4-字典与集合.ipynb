{
 "cells": [
  {
   "cell_type": "markdown",
   "metadata": {},
   "source": [
    "## <center>实验四 字典与集合</center>"
   ]
  },
  {
   "cell_type": "markdown",
   "metadata": {},
   "source": [
    "姓名：陈雨晗             学号：6109120135           班级：计算机206   "
   ]
  },
  {
   "cell_type": "markdown",
   "metadata": {},
   "source": [
    "### 一、实验目的\n",
    "1. 了解散列表的实现方法以及散列表的应用；\n",
    "2. 掌握字典和集合类型的使用方法；\n",
    "3. 了解字典和集合的典型应用，散列类型与序列类型的异同。\n"
   ]
  },
  {
   "cell_type": "markdown",
   "metadata": {},
   "source": [
    "### 二、实验内容\n",
    "1. 练习字典和集合对象的创建方法。 \n",
    "2. 完成教材118页的课后练习第1、2题"
   ]
  },
  {
   "cell_type": "markdown",
   "metadata": {},
   "source": [
    "### 三 实验步骤"
   ]
  },
  {
   "cell_type": "markdown",
   "metadata": {},
   "source": [
    "1. 练习字典和集合对象的创建方法。  "
   ]
  },
  {
   "cell_type": "code",
   "execution_count": 1,
   "metadata": {},
   "outputs": [],
   "source": [
    "dictionary={'first':'grace','second':'grace2'}\n",
    "set={1,2,3,4}"
   ]
  },
  {
   "cell_type": "markdown",
   "metadata": {},
   "source": [
    "2. 教材118页的课后练习第2题"
   ]
  },
  {
   "cell_type": "code",
   "execution_count": 6,
   "metadata": {},
   "outputs": [
    {
     "name": "stdout",
     "output_type": "stream",
     "text": [
      "{88.66666666666667: '012', 92.5: '005', 91.16666666666667: '108'}\n",
      "[92.5, 91.16666666666667, 88.66666666666667]\n",
      "005 92.5\n",
      "108 91.16666666666667\n",
      "012 88.66666666666667\n"
     ]
    }
   ],
   "source": [
    "dicScores = {'012': [90, 94, 97, 86, 85, 89, 88, 85], '005': [91, 91, 92, 98, 90, 96, 90, 95],\n",
    "             '108': [96, 86, 97, 96, 87, 86, 86, 96]}\n",
    "dicAve = {}\n",
    "lists = []\n",
    "for k, v in dicScores.items():\n",
    "    lists = dicScores[k]\n",
    "    lists.remove(max(lists))\n",
    "    lists.remove(min(lists))\n",
    "    ave = sum(lists) / len(lists)\n",
    "    dicAve[ave] = k\n",
    "print(dicAve)\n",
    "ls = sorted(dicAve, reverse=True)\n",
    "print(ls)\n",
    "for k in ls:\n",
    "    print(dicAve[k], k)"
   ]
  },
  {
   "cell_type": "markdown",
   "metadata": {},
   "source": [
    "3. 教材118页的课后练习第2题"
   ]
  },
  {
   "cell_type": "code",
   "execution_count": 7,
   "metadata": {},
   "outputs": [
    {
     "name": "stdout",
     "output_type": "stream",
     "text": [
      "{88.66666666666667: '012', 92.5: '005', 91.16666666666667: '108'}\n",
      "[92.5, 91.16666666666667, 88.66666666666667]\n",
      "005 92.5\n",
      "108 91.16666666666667\n",
      "012 88.66666666666667\n"
     ]
    }
   ],
   "source": [
    "dicScores = {'012': [90, 94, 97, 86, 85, 89, 88, 85], '005': [91, 91, 92, 98, 90, 96, 90, 95],\n",
    "             '108': [96, 86, 97, 96, 87, 86, 86, 96]}\n",
    "dicAve = {}\n",
    "lists = []\n",
    "for k, v in dicScores.items():\n",
    "    lists = dicScores[k]\n",
    "    lists.remove(max(lists))\n",
    "    lists.remove(min(lists))\n",
    "    ave = sum(lists) / len(lists)\n",
    "    dicAve[ave] = k\n",
    "print(dicAve)\n",
    "ls = sorted(dicAve, reverse=True)\n",
    "print(ls)\n",
    "for k in ls:\n",
    "    print(dicAve[k], k)"
   ]
  },
  {
   "cell_type": "markdown",
   "metadata": {},
   "source": [
    "### 四 实验总结"
   ]
  },
  {
   "cell_type": "markdown",
   "metadata": {},
   "source": [
    "初步了解字典和集合的语法和创建方法，了解字典和集合的基础用法，以及对于进一步的增删改查方法"
   ]
  }
 ],
 "metadata": {
  "kernelspec": {
   "display_name": "Python 3 (ipykernel)",
   "language": "python",
   "name": "python3"
  },
  "language_info": {
   "codemirror_mode": {
    "name": "ipython",
    "version": 3
   },
   "file_extension": ".py",
   "mimetype": "text/x-python",
   "name": "python",
   "nbconvert_exporter": "python",
   "pygments_lexer": "ipython3",
   "version": "3.9.7"
  }
 },
 "nbformat": 4,
 "nbformat_minor": 4
}
