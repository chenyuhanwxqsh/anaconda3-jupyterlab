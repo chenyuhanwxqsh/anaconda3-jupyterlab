{
 "cells": [
  {
   "cell_type": "markdown",
   "metadata": {},
   "source": [
    "## <center>实验三 列表与元组</center>"
   ]
  },
  {
   "cell_type": "markdown",
   "metadata": {},
   "source": [
    "姓名：陈雨晗              学号：6109120135            班级：计算机206   "
   ]
  },
  {
   "cell_type": "markdown",
   "metadata": {},
   "source": [
    "### 一、实验目的\n",
    "1. 了解Python序列类型的基本概念与常用操作；\n",
    "2. 掌握列表、元组、字符串和数字序列等常用序列类型的使用方法；\n",
    "3. 理解列表与元组的区别。"
   ]
  },
  {
   "cell_type": "markdown",
   "metadata": {},
   "source": [
    "### 二、实验内容\n",
    "1. 练习列表、元组、字符串和数字序列对象的创建方法。 \n",
    "2. 利用多种方法实现斐波那契数列的输出，并比较不同实现方法的性能。\n",
    "3. 完成教材93页的课后练习第1、5、6题"
   ]
  },
  {
   "cell_type": "markdown",
   "metadata": {},
   "source": [
    "### 三 实验步骤"
   ]
  },
  {
   "cell_type": "markdown",
   "metadata": {},
   "source": [
    "1. 练习列表、元组、字符串和数字序列对象的创建方法。 "
   ]
  },
  {
   "cell_type": "code",
   "execution_count": 1,
   "metadata": {},
   "outputs": [],
   "source": [
    "#列表\n",
    "a=[10,20,\"hello world\"]\n",
    "a=[x*2 for x in range(5)]\n",
    "a=list(range(10))\n",
    "#元组\n",
    "a=(10,20,30)\n",
    "a=tuple(\"abc\")\n",
    "#字符串\n",
    "a='hello world'\n",
    "#数字序列对象\n",
    "a=[1,3,5]"
   ]
  },
  {
   "cell_type": "markdown",
   "metadata": {},
   "source": [
    "2. 利用多种方法实现斐波那契数列的输出，并比较不同实现方法的性能。"
   ]
  },
  {
   "cell_type": "code",
   "execution_count": 2,
   "metadata": {},
   "outputs": [
    {
     "name": "stdout",
     "output_type": "stream",
     "text": [
      "[1, 1, 2, 3, 5, 8, 13, 21, 34, 55, 89, 144, 233, 377, 610, 987, 1597, 2584, 4181, 6765]\n",
      "1 1 2 3 5 8 13 21 34 55 89 144 233 377 610 987 1597 2584 4181 6765 "
     ]
    }
   ],
   "source": [
    "#迭代\n",
    "a = [1, 1]\n",
    "max = 20\n",
    "for i in range(2, max):\n",
    "    a.append(a[i - 1] + a[i - 2])\n",
    "print(a)\n",
    "\n",
    "#递归\n",
    "def fei(day):\n",
    "    if day < 3:\n",
    "        return 1\n",
    "    return fei(day - 1) + fei(day - 2)\n",
    "for i in range(1, 21):\n",
    "    print(fei(i), end=' ')"
   ]
  },
  {
   "cell_type": "markdown",
   "metadata": {},
   "source": [
    "迭代虽然要简单一些，但是可读性差；同样的递归看起来精简，但占用空间大，随着递归的层次变化，所耗费的时间比迭代更长，不适合深层次计算。"
   ]
  },
  {
   "cell_type": "markdown",
   "metadata": {},
   "source": [
    "3. 有列表l=[54, 36, 75, 28, 50],请根据要求完成以下操作\n",
    "（1）在列表尾部插入元素42\n",
    "（2）在28前面插入元素66\n",
    "（1）删除并输出元素28\n",
    "（4）将列表按降序排列\n",
    "（5）清空整个列表。（教材93页第1题）"
   ]
  },
  {
   "cell_type": "code",
   "execution_count": 3,
   "metadata": {},
   "outputs": [
    {
     "name": "stdout",
     "output_type": "stream",
     "text": [
      "[54, 36, 75, 28, 50, 42]\n",
      "[54, 36, 75, 66, 28, 50, 42]\n",
      "28\n",
      "[54, 36, 75, 66, 50, 42]\n",
      "[75, 66, 54, 50, 42, 36]\n",
      "[]\n"
     ]
    }
   ],
   "source": [
    "l=[54,36,75,28,50]\n",
    "\n",
    "l.append(42)\n",
    "print(l)\n",
    "\n",
    "l.insert(3,66)\n",
    "print(l)\n",
    "\n",
    "print(l.pop(4))\n",
    "print(l)\n",
    "\n",
    "l.sort(reverse=True)\n",
    "print(l)\n",
    "\n",
    "for i in range(len(l)):\n",
    "    l.pop()\n",
    "\n",
    "print(l)"
   ]
  },
  {
   "cell_type": "markdown",
   "metadata": {},
   "source": [
    "\n",
    "   4. 创建长度为20得列表，其元素为1000~5000以内得随机整数。编写程序找出列表中不能被10以内素数整除得元素。（教材93页第5题）"
   ]
  },
  {
   "cell_type": "code",
   "execution_count": 4,
   "metadata": {},
   "outputs": [
    {
     "name": "stdout",
     "output_type": "stream",
     "text": [
      "生成的20个1000~5000的随机数是:\n",
      "[693, 334, 43, 895, 983, 269, 257, 418, 807, 238, 309, 709, 528, 859, 449, 675, 646, 842, 12, 624]\n",
      "其中不能被10以内素数整除的数是:\n",
      "[43, 983, 269, 257, 709, 859, 449]\n"
     ]
    }
   ],
   "source": [
    "import random\n",
    "\n",
    "ls=[random.randint(1,1000) for i in range(20)]\n",
    "ts=(2,3,5,7)\n",
    "\n",
    "l1=[0]*len(ls)\n",
    "for i in range(len(ls)):\n",
    "    for t in ts:\n",
    "        if ls[i] % t==0:\n",
    "            l1[i]=1\n",
    "l2=[]\n",
    "for i in range(len(ls)):\n",
    "    if l1[i]==0:\n",
    "        l2.append(ls[i])\n",
    "\n",
    "print(\"生成的20个1000~5000的随机数是:\")\n",
    "print(ls)\n",
    "\n",
    "print(\"其中不能被10以内素数整除的数是:\")\n",
    "print(l2)\n"
   ]
  },
  {
   "cell_type": "code",
   "execution_count": null,
   "metadata": {},
   "outputs": [],
   "source": [
    "5. 请参考例4-9，用嵌套得列表存储运动会报名表（见表4-4），并编程完成如下操作。（教材93页第6题）"
   ]
  },
  {
   "cell_type": "code",
   "execution_count": 5,
   "metadata": {},
   "outputs": [
    {
     "name": "stdout",
     "output_type": "stream",
     "text": [
      "4\n",
      "[['李丽', '女', 0, 1, 0, 1], ['陈小梅', '女', 0, 0, 1, 0]]\n"
     ]
    }
   ],
   "source": [
    "tables=[['王平','男',1,1,0,0],\n",
    "        ['李丽','女',0,1,0,1],\n",
    "        ['陈小梅','女',0,0,1,0],\n",
    "        ['孙洪涛','男',0,1,1,1],\n",
    "        ['方亮','男',1,0,1,0]]\n",
    "\n",
    "n=0\n",
    "for item in tables:\n",
    "    if item.count(1)>=2:\n",
    "        n+=1\n",
    "\n",
    "print(n)\n",
    "        \n",
    "lv=[]\n",
    "for item in tables:\n",
    "    if item[1]=='女':\n",
    "        lv.append(item)\n",
    "\n",
    "print(lv)\n"
   ]
  },
  {
   "cell_type": "markdown",
   "metadata": {},
   "source": [
    "王平 男\n",
    "李丽 女\n",
    "孙洪涛 男"
   ]
  },
  {
   "cell_type": "markdown",
   "metadata": {},
   "source": [
    "### 四 实验总结"
   ]
  },
  {
   "cell_type": "markdown",
   "metadata": {},
   "source": [
    "初步了解列表、元组、字符串和数字序列对象的基本概念和创建方法，掌握python的基础语法，并且需要通过练习使用熟练掌握各种序列类型的语法规则"
   ]
  }
 ],
 "metadata": {
  "kernelspec": {
   "display_name": "Python 3 (ipykernel)",
   "language": "python",
   "name": "python3"
  },
  "language_info": {
   "codemirror_mode": {
    "name": "ipython",
    "version": 3
   },
   "file_extension": ".py",
   "mimetype": "text/x-python",
   "name": "python",
   "nbconvert_exporter": "python",
   "pygments_lexer": "ipython3",
   "version": "3.9.7"
  }
 },
 "nbformat": 4,
 "nbformat_minor": 4
}
