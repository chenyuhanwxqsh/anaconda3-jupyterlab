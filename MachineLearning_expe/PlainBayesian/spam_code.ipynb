{
 "cells": [
  {
   "cell_type": "code",
   "execution_count": 19,
   "id": "3fd6c134-b959-469c-a640-93c59dd67945",
   "metadata": {},
   "outputs": [
    {
     "name": "stdout",
     "output_type": "stream",
     "text": [
      "['spam' 'ham']\n"
     ]
    }
   ],
   "source": [
    "# 1.数据集介绍\n",
    "# SMSSpamCollection.txt数据集\n",
    "# 第一列是短信的label\n",
    "# ham：非垃圾短信\n",
    "# spam：垃圾短信\n",
    "# \\t键后面是短信的正文\n",
    "\n",
    "# 2.导入要用的包\n",
    "import pandas as pd \n",
    "from sklearn import linear_model\n",
    "from sklearn.feature_extraction.text import TfidfVectorizer # sklearn包中，特殊提取中的文本模块中，特殊字符向量化方法\n",
    "\n",
    "# 3.读入数据集\n",
    "path = './'\n",
    "filename = 'spam.txt'\n",
    "df = pd.read_csv(path + filename, delimiter='\\t', header=None)# 用\\t分割，没有文件头\n",
    "# 生成label和x输入\n",
    "y,X_train = df[0],df[1]\n",
    "\n",
    "# 4.预处理\n",
    "# zip个数据集是文本的，因此要对label和x都做预处理\n",
    "# sklearn.feature_extraction.text.TfidfVectorizer，计算单词在所给数据集中的频率和在当前数据中的频率。对单词在所有数据集中的概率做导数。\n",
    "# 向量化\n",
    "vectorizer = TfidfVectorizer()\n",
    "X = vectorizer.fit_transform(X_train)\n",
    "\n",
    "# 5.训练模型\n",
    "# 使用Logic回归方法训练\n",
    "lr = linear_model.LogisticRegression()\n",
    "lr.fit(X, y)\n",
    "\n",
    "# 6.进行测试\n",
    "# 测试\n",
    "testX = vectorizer.transform(['Urgent: hello, Your mobile was awarded a Prize!',\n",
    "                             'hello,how are you'])\n",
    "predictions = lr.predict(testX)\n",
    "print(predictions)"
   ]
  }
 ],
 "metadata": {
  "kernelspec": {
   "display_name": "Python 3 (ipykernel)",
   "language": "python",
   "name": "python3"
  },
  "language_info": {
   "codemirror_mode": {
    "name": "ipython",
    "version": 3
   },
   "file_extension": ".py",
   "mimetype": "text/x-python",
   "name": "python",
   "nbconvert_exporter": "python",
   "pygments_lexer": "ipython3",
   "version": "3.9.7"
  }
 },
 "nbformat": 4,
 "nbformat_minor": 5
}
