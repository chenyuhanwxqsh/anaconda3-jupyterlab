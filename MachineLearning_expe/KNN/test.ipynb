{
 "cells": [
  {
   "cell_type": "code",
   "execution_count": 8,
   "id": "5ac691f4-8d75-457f-a8a5-bd1015f963d0",
   "metadata": {},
   "outputs": [],
   "source": [
    "from sklearn.neighbors import KNeighborsClassifier\n",
    "from sklearn.model_selection import GridSearchCV\n",
    "def model_selection(x_train,y_train):\n",
    "    paras={'n_neighbors':[5,6,7,8,9,10],'p':[1,2]}\n",
    "    model=KNeighborsClassifier()\n",
    "    gs=GridSearchCV(model,paras,verbose=2,cv=5)\n",
    "    gs.fit(x_train,y_train)\n",
    "    print('最佳模型:',gs.best_params_,'准确率:',gs.best_score_)"
   ]
  },
  {
   "cell_type": "code",
   "execution_count": 9,
   "id": "87be4f17-4860-45c4-8205-d5d02a2299c6",
   "metadata": {},
   "outputs": [],
   "source": [
    "from sklearn.model_selection import train_test_split"
   ]
  },
  {
   "cell_type": "code",
   "execution_count": 18,
   "id": "b6c394e5-4e74-4e0b-bd35-6991430cddeb",
   "metadata": {},
   "outputs": [],
   "source": [
    "iris = datasets.load_iris()\n",
    "feature = iris['data']  \n",
    "target = iris['target']  \n",
    "\n",
    "x_train, x_test, y_train, y_test = train_test_split(feature, target, test_size=0.2,  random_state=2021)"
   ]
  },
  {
   "cell_type": "code",
   "execution_count": 13,
   "id": "7731161c-8395-4cf7-9e43-e7ca1a86f2d9",
   "metadata": {},
   "outputs": [
    {
     "name": "stdout",
     "output_type": "stream",
     "text": [
      "Fitting 5 folds for each of 12 candidates, totalling 60 fits\n",
      "[CV] END .................................n_neighbors=5, p=1; total time=   0.0s\n",
      "[CV] END .................................n_neighbors=5, p=1; total time=   0.0s\n",
      "[CV] END .................................n_neighbors=5, p=1; total time=   0.0s\n",
      "[CV] END .................................n_neighbors=5, p=1; total time=   0.0s\n",
      "[CV] END .................................n_neighbors=5, p=1; total time=   0.0s\n",
      "[CV] END .................................n_neighbors=5, p=2; total time=   0.0s\n",
      "[CV] END .................................n_neighbors=5, p=2; total time=   0.0s\n",
      "[CV] END .................................n_neighbors=5, p=2; total time=   0.0s\n",
      "[CV] END .................................n_neighbors=5, p=2; total time=   0.0s\n",
      "[CV] END .................................n_neighbors=5, p=2; total time=   0.0s\n",
      "[CV] END .................................n_neighbors=6, p=1; total time=   0.0s\n",
      "[CV] END .................................n_neighbors=6, p=1; total time=   0.0s\n",
      "[CV] END .................................n_neighbors=6, p=1; total time=   0.0s\n",
      "[CV] END .................................n_neighbors=6, p=1; total time=   0.0s\n",
      "[CV] END .................................n_neighbors=6, p=1; total time=   0.0s\n",
      "[CV] END .................................n_neighbors=6, p=2; total time=   0.0s\n",
      "[CV] END .................................n_neighbors=6, p=2; total time=   0.0s\n",
      "[CV] END .................................n_neighbors=6, p=2; total time=   0.0s\n",
      "[CV] END .................................n_neighbors=6, p=2; total time=   0.0s\n",
      "[CV] END .................................n_neighbors=6, p=2; total time=   0.0s\n",
      "[CV] END .................................n_neighbors=7, p=1; total time=   0.0s\n",
      "[CV] END .................................n_neighbors=7, p=1; total time=   0.0s\n",
      "[CV] END .................................n_neighbors=7, p=1; total time=   0.0s\n",
      "[CV] END .................................n_neighbors=7, p=1; total time=   0.0s\n",
      "[CV] END .................................n_neighbors=7, p=1; total time=   0.0s\n",
      "[CV] END .................................n_neighbors=7, p=2; total time=   0.0s\n",
      "[CV] END .................................n_neighbors=7, p=2; total time=   0.0s\n",
      "[CV] END .................................n_neighbors=7, p=2; total time=   0.0s\n",
      "[CV] END .................................n_neighbors=7, p=2; total time=   0.0s\n",
      "[CV] END .................................n_neighbors=7, p=2; total time=   0.0s\n",
      "[CV] END .................................n_neighbors=8, p=1; total time=   0.0s\n",
      "[CV] END .................................n_neighbors=8, p=1; total time=   0.0s\n",
      "[CV] END .................................n_neighbors=8, p=1; total time=   0.0s\n",
      "[CV] END .................................n_neighbors=8, p=1; total time=   0.0s\n",
      "[CV] END .................................n_neighbors=8, p=1; total time=   0.0s\n",
      "[CV] END .................................n_neighbors=8, p=2; total time=   0.0s\n",
      "[CV] END .................................n_neighbors=8, p=2; total time=   0.0s\n",
      "[CV] END .................................n_neighbors=8, p=2; total time=   0.0s\n",
      "[CV] END .................................n_neighbors=8, p=2; total time=   0.0s\n",
      "[CV] END .................................n_neighbors=8, p=2; total time=   0.0s\n",
      "[CV] END .................................n_neighbors=9, p=1; total time=   0.0s\n",
      "[CV] END .................................n_neighbors=9, p=1; total time=   0.0s\n",
      "[CV] END .................................n_neighbors=9, p=1; total time=   0.0s\n",
      "[CV] END .................................n_neighbors=9, p=1; total time=   0.0s\n",
      "[CV] END .................................n_neighbors=9, p=1; total time=   0.0s\n",
      "[CV] END .................................n_neighbors=9, p=2; total time=   0.0s\n",
      "[CV] END .................................n_neighbors=9, p=2; total time=   0.0s\n",
      "[CV] END .................................n_neighbors=9, p=2; total time=   0.0s\n",
      "[CV] END .................................n_neighbors=9, p=2; total time=   0.0s\n",
      "[CV] END .................................n_neighbors=9, p=2; total time=   0.0s\n",
      "[CV] END ................................n_neighbors=10, p=1; total time=   0.0s\n",
      "[CV] END ................................n_neighbors=10, p=1; total time=   0.0s\n",
      "[CV] END ................................n_neighbors=10, p=1; total time=   0.0s\n",
      "[CV] END ................................n_neighbors=10, p=1; total time=   0.0s\n",
      "[CV] END ................................n_neighbors=10, p=1; total time=   0.0s\n",
      "[CV] END ................................n_neighbors=10, p=2; total time=   0.0s\n",
      "[CV] END ................................n_neighbors=10, p=2; total time=   0.0s\n",
      "[CV] END ................................n_neighbors=10, p=2; total time=   0.0s\n",
      "[CV] END ................................n_neighbors=10, p=2; total time=   0.0s\n",
      "[CV] END ................................n_neighbors=10, p=2; total time=   0.0s\n",
      "最佳模型: {'n_neighbors': 6, 'p': 2} 准确率: 0.975\n"
     ]
    }
   ],
   "source": [
    "model_selection(x_train,y_train)"
   ]
  },
  {
   "cell_type": "code",
   "execution_count": 19,
   "id": "33f0dd63-a2f7-4fd6-9f35-ffd1e0335223",
   "metadata": {},
   "outputs": [
    {
     "name": "stdout",
     "output_type": "stream",
     "text": [
      "模型的分类结果: [0 0 1 0 0 0 0 0 0 0 0 1 2 2 1 2 1 1 0 1 1 2 2 0 2 1 1 2 0 0]\n",
      "真实的分类结果: [0 0 1 0 0 0 0 0 0 0 0 1 2 2 1 2 1 1 0 1 1 2 2 0 2 1 1 1 0 0]\n",
      "0.9666666666666667\n"
     ]
    }
   ],
   "source": [
    "y_pred = knn.predict(x_test)\n",
    "y_true = y_test\n",
    "print('模型的分类结果:', y_pred)\n",
    "print('真实的分类结果:', y_true)\n",
    "\n",
    "print(knn.score(x_test, y_test))"
   ]
  }
 ],
 "metadata": {
  "kernelspec": {
   "display_name": "Python 3 (ipykernel)",
   "language": "python",
   "name": "python3"
  },
  "language_info": {
   "codemirror_mode": {
    "name": "ipython",
    "version": 3
   },
   "file_extension": ".py",
   "mimetype": "text/x-python",
   "name": "python",
   "nbconvert_exporter": "python",
   "pygments_lexer": "ipython3",
   "version": "3.9.7"
  }
 },
 "nbformat": 4,
 "nbformat_minor": 5
}
