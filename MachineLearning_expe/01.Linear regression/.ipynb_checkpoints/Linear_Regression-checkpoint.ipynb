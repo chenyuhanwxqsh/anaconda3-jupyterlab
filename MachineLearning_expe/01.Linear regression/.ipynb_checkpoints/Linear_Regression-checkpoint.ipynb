{
 "cells": [
  {
   "cell_type": "markdown",
   "metadata": {
    "tags": []
   },
   "source": [
    "# 实践实验室：线性回归\n",
    "\n",
    "欢迎来到你的第一个实践实验室！在本实验中，你将使用一个变量实现线性回归，以预测餐厅特许经营的利润。\n",
    "\n",
    "# 大纲\n",
    "- [ 1 - 包 ](#1)\n",
    "- [ 2 - 单变量线性回归 ](#2)\n",
    "  - [ 2.1 问题描述](#2.1)\n",
    "  - [ 2.2  数据集](#2.2)\n",
    "  - [ 2.3 复习线性回归](#2.3)\n",
    "  - [ 2.4  计算损失](#2.4)\n",
    "    - [ 练习 1](#ex01)\n",
    "  - [ 2.5 梯度下降 ](#2.5)\n",
    "    - [ 练习 2](#ex02)\n",
    "  - [ 2.6 使用批量梯度下降法学习参数 ](#2.6)\n"
   ]
  },
  {
   "cell_type": "markdown",
   "metadata": {
    "tags": []
   },
   "source": [
    "<a name=\"1\"></a>\n",
    "## 1 - 包\n",
    "\n",
    "首先，让我们运行下面的单元格来导入你在此分配期间需要的所有包。\n",
    "- [numpy](www.numpy.org) 是在 Python 中处理矩阵的基本包。\n",
    "- [matplotlib](http://matplotlib.org) 是一个著名的 Python 绘图库。\n",
    "- ``utils.py`` 包含此分配的辅助函数。你无需修改此文件中的代码。\n"
   ]
  },
  {
   "cell_type": "code",
   "execution_count": 1,
   "metadata": {
    "tags": []
   },
   "outputs": [],
   "source": [
    "import numpy as np\n",
    "import matplotlib.pyplot as plt\n",
    "from utils import *\n",
    "import copy\n",
    "import math\n",
    "%matplotlib inline"
   ]
  },
  {
   "cell_type": "markdown",
   "metadata": {},
   "source": [
    "## 2 -  问题描述\n",
    "\n",
    "假设你是一家连锁餐厅的 CEO，并且正在考虑在不同的城市开设一家新店。\n",
    "- 你想将业务扩展到可能为你的餐厅带来更高利润的城市。\n",
    "- 该连锁店已经在各个城市开设了餐厅，并且你拥有来自城市的利润和人口数据。\n",
    "- 你还拥有作为新餐厅候选城市的数据。\n",
    "    - 对于这些城市，你拥有城市人口。\n",
    "    \n",
    "你能否使用这些数据来帮助你确定哪些城市可能会给你的企业带来更高的利润？\n",
    "\n",
    "## 3 - 数据集\n",
    "\n",
    "首先，你将为此任务加载数据集。\n",
    "- `load_data()` 函数将如下所示的数据加载到变量 `x_train` 和 `y_train`\n",
    "  - `x_train` 是一个城市的人口\n",
    "  - `y_train` 是那个城市一家餐馆的利润。利润为负值表示亏损。\n",
    "  - `X_train` 和 `y_train` 都是 numpy 的数组。"
   ]
  },
  {
   "cell_type": "code",
   "execution_count": 2,
   "metadata": {},
   "outputs": [],
   "source": [
    "# load the dataset\n",
    "x_train, y_train = load_data()"
   ]
  },
  {
   "cell_type": "markdown",
   "metadata": {},
   "source": [
    "#### 查看变量\n",
    "在开始任何任务之前，熟悉你的数据集是很有用且必要的。\n",
    "- 一个好的开始————打印出每个变量并查看它包含的内容。\n",
    "\n",
    "下面的代码打印变量 `x_train` 和变量的类型。"
   ]
  },
  {
   "cell_type": "code",
   "execution_count": 3,
   "metadata": {},
   "outputs": [
    {
     "name": "stdout",
     "output_type": "stream",
     "text": [
      "Type of x_train: <class 'numpy.ndarray'>\n",
      "First five elements of x_train are:\n",
      " [6.1101 5.5277 8.5186 7.0032 5.8598]\n"
     ]
    }
   ],
   "source": [
    "# print x_train\n",
    "print(\"Type of x_train:\",type(x_train))\n",
    "print(\"First five elements of x_train are:\\n\", x_train[:5]) "
   ]
  },
  {
   "cell_type": "markdown",
   "metadata": {},
   "source": [
    "`x_train` 是一个 numpy 数组，其中包含所有大于零的十进制值。\n",
    "- 这些值代表城市人口乘以 10,000\n",
    "- 例如，6.1101 表示该城市的人口为 61,101\n",
    "  \n",
    "现在，让我们打印 `y_train`"
   ]
  },
  {
   "cell_type": "code",
   "execution_count": 4,
   "metadata": {},
   "outputs": [
    {
     "name": "stdout",
     "output_type": "stream",
     "text": [
      "Type of y_train: <class 'numpy.ndarray'>\n",
      "First five elements of y_train are:\n",
      " [17.592   9.1302 13.662  11.854   6.8233]\n"
     ]
    }
   ],
   "source": [
    "# print y_train\n",
    "print(\"Type of y_train:\",type(y_train))\n",
    "print(\"First five elements of y_train are:\\n\", y_train[:5])  "
   ]
  },
  {
   "cell_type": "markdown",
   "metadata": {},
   "source": [
    "类似地, `y_train` 是一个含有十进制值的numpy数组，有些是负数，有些是正数。\n",
    "- 这些代表你的餐厅在每个城市的平均月利润，单位为 10,000 美元。\n",
    "  - 例如，17.592 代表该城市的平均月利润为 175,920 美元。\n",
    "  - -2.6807代表该城市每月平均亏损26807美元。"
   ]
  },
  {
   "cell_type": "markdown",
   "metadata": {},
   "source": [
    "#### 检查变量的维度\n",
    "\n",
    "另一种熟悉数据的有用方法是查看其维度。\n",
    "\n",
    "请打印 `x_train` 和 `y_train` 的形状，并查看你的数据集中有多少训练示例。"
   ]
  },
  {
   "cell_type": "code",
   "execution_count": 5,
   "metadata": {},
   "outputs": [
    {
     "name": "stdout",
     "output_type": "stream",
     "text": [
      "The shape of x_train is: (97,)\n",
      "The shape of y_train is:  (97,)\n",
      "Number of training examples (m): 97\n"
     ]
    }
   ],
   "source": [
    "print ('The shape of x_train is:', x_train.shape)\n",
    "print ('The shape of y_train is: ', y_train.shape)\n",
    "print ('Number of training examples (m):', len(x_train))"
   ]
  },
  {
   "cell_type": "markdown",
   "metadata": {},
   "source": [
    "城市人口数组有97个数据点，月平均利润也有97个数据点。这些是 Num Py 一维数组。"
   ]
  },
  {
   "cell_type": "markdown",
   "metadata": {},
   "source": [
    "#### 可视化你的数据\n",
    "\n",
    "通过可视化数据来理解数据通常很有用。\n",
    "- 对于此数据集，你可以使用散点图来可视化数据，因为它只有两个要绘制的属性（利润和人口）。\n",
    "- 你在现实生活中会遇到的很多其他问题都有两个以上的属性（例如人口、家庭平均收入、月利润、月销售额）。当你有两个以上的属性时，你仍然可以使用散点图来查看每对属性之间的关系。\n"
   ]
  },
  {
   "cell_type": "code",
   "execution_count": 6,
   "metadata": {},
   "outputs": [
    {
     "data": {
      "image/png": "[encoded data removed]",
      "text/plain": [
       "<Figure size 432x288 with 1 Axes>"
      ]
     },
     "metadata": {
      "needs_background": "light"
     },
     "output_type": "display_data"
    }
   ],
   "source": [
    "# Create a scatter plot of the data. To change the markers to red \"x\",\n",
    "# we used the 'marker' and 'c' parameters\n",
    "plt.scatter(x_train, y_train, marker='x', c='r') \n",
    "\n",
    "# Set the title\n",
    "plt.title(\"Profits vs. Population per city\")\n",
    "# Set the y-axis label\n",
    "plt.ylabel('Profit in $10,000')\n",
    "# Set the x-axis label\n",
    "plt.xlabel('Population of City in 10,000s')\n",
    "plt.show()"
   ]
  },
  {
   "cell_type": "markdown",
   "metadata": {},
   "source": [
    "你的目标是建立一个线性回归模型来拟合这些数据。\n",
    "- 使用此模型，你可以输入一个新城市的人口，并让模型估算你的餐厅在该城市的潜在月利润。"
   ]
  },
  {
   "cell_type": "markdown",
   "metadata": {},
   "source": [
    "<a name=\"4\"></a>\n",
    "## 4 - 复习线性回归\n",
    "\n",
    "在这个实践实验室中，你将把线性回归参数$(w,b)$拟合到你的数据集。\n",
    "- 线性回归的模型函数，它是一个从 `x` （城市人口）映射到 `y` （你的餐厅在该城市的月利润）的函数，表示为 $$f_{w,b}(x) = wx + b$$\n",
    "    \n",
    "\n",
    "- 为了训练线性回归模型，你需要找到适合你的数据集的最佳 $(w,b)$ 参数。 \n",
    "\n",
    "    - 如果你想比较$(w,b)$的优劣，你可以用损失函数$J(w,b)$来评估它。\n",
    "      - $J$ 是一个关于 $(w,b)$ 的函数。也就是说， 损失函数 $J(w,b)$ 的值取决于 $(w,b)$ 的值。\n",
    "  \n",
    "    - 拟合 $(w,b)$ 最好的选择就是最小的损失 $J(w,b)$.\n",
    "\n",
    "\n",
    "- 要找到获得最小可能成本 $J(w,b)$ 的值 $(w,b)$，你可以使用一种称为**梯度下降**的方法。\n",
    "  - 随着梯度下降的每一步，你的参数 $(w,b)$ 会更接近实现最低成本 $J(w,b)$ 的最优值。\n",
    "  \n",
    "\n",
    "- 然后，经过训练的线性回归模型可以采用输入特征 $x$（城市人口）并输出预测 $f_{w,b}(x)$（预测该城市餐厅的月利润）。"
   ]
  },
  {
   "cell_type": "markdown",
   "metadata": {},
   "source": [
    "<a name=\"5\"></a>\n",
    "## 5 - 计算损失\n",
    "\n",
    "梯度下降涉及重复步骤来调整参数 $(w,b)$ 的值，以逐渐获得越来越小的成本 $J(w,b)$。\n",
    "- 在梯度下降的每一步，通过计算 $(w,b)$ 更新时的成本 $J(w,b)$ 来监控你的进度会很有帮助。\n",
    "- 在本节中，你将实现一个函数来计算 $J(w,b)$，以便你可以检查梯度下降实现的进度。\n",
    "\n",
    "#### 损失函数\n",
    "你可能还记得，对于一个变量，线性回归 $J(w,b)$ 的成本函数定义为\n",
    "\n",
    "$$J(w,b) = \\frac{1}{2m} \\sum\\limits_{i = 0}^{m-1} (f_{w,b}(x^{(i)}) - y^{(i)})^2$$ \n",
    "\n",
    "- 你可以将 $f_{w,b}(x^{(i)})$ 视为模型对餐厅利润的预测，而不是 $y^{(i)}$，后者是实际利润记录在数据中。\n",
    "- $m$ 是数据集中训练示例的数量\n",
    "\n",
    "#### 模型预测\n",
    "\n",
    "- 对于单变量线性回归，以$x^{(i)}$为例，模型$f_{w,b}$的预测为:\n",
    "\n",
    "$$ f_{w,b}(x^{(i)}) = wx^{(i)} + b$$\n",
    "\n",
    "这是一条直线的方程，截距为 $b$，斜率为 $w$\n",
    "\n",
    "#### 实现\n",
    "\n",
    "请完善下方的 `compute_cost()` 函数来计算损失 $J(w,b)$."
   ]
  },
  {
   "cell_type": "markdown",
   "metadata": {},
   "source": [
    "<a name=\"ex01\"></a>\n",
    "### 练习 1\n",
    "\n",
    "通过完善下方的 `compute_cost` :\n",
    "\n",
    "* 迭代训练示例，并为每个示例计算：\n",
    "    * 该示例的模型预测\n",
    "    $$\n",
    "    f_{wb}(x^{(i)}) =  wx^{(i)} + b \n",
    "    $$\n",
    "   \n",
    "    * 该示例的损失  $$cost^{(i)} =  (f_{wb} - y^{(i)})^2$$\n",
    "    \n",
    "\n",
    "* 返回所有示例的总成本\n",
    "$$J(\\mathbf{w},b) = \\frac{1}{2m} \\sum\\limits_{i = 0}^{m-1} cost^{(i)}$$\n",
    "  * 这里, $m$ 是训练示例的数量， $\\sum$ 是求和算子\n",
    "\n",
    "如果你遇到困难，你可以查看下面单元格后提供的提示，以帮助你实施。"
   ]
  },
  {
   "cell_type": "code",
   "execution_count": 10,
   "metadata": {},
   "outputs": [],
   "source": [
    "# UNQ_C1\n",
    "# GRADED FUNCTION: compute_cost\n",
    "\n",
    "def compute_cost(x, y, w, b): \n",
    "    \"\"\"\n",
    "    Computes the cost function for linear regression.\n",
    "    \n",
    "    Args:\n",
    "        x (ndarray): Shape (m,) Input to the model (Population of cities) \n",
    "        y (ndarray): Shape (m,) Label (Actual profits for the cities)\n",
    "        w, b (scalar): Parameters of the model\n",
    "    \n",
    "    Returns\n",
    "        total_cost (float): The cost of using w,b as the parameters for linear regression\n",
    "               to fit the data points in x and y\n",
    "    \"\"\"\n",
    "    # number of training examples\n",
    "    m = x.shape[0] \n",
    "    \n",
    "    # You need to return this variable correctly\n",
    "    total_cost = 0\n",
    "    \n",
    "    ### START CODE HERE ###  \n",
    "    \n",
    "    total_cost = ((w * x + b - y) ** 2).mean() / 2\n",
    "    ### END CODE HERE ### \n",
    "\n",
    "    return total_cost"
   ]
  },
  {
   "cell_type": "markdown",
   "metadata": {},
   "source": [
    "你可以通过运行以下测试代码来检查你的实现是否正确："
   ]
  },
  {
   "cell_type": "code",
   "execution_count": 11,
   "metadata": {
    "tags": []
   },
   "outputs": [
    {
     "name": "stdout",
     "output_type": "stream",
     "text": [
      "<class 'numpy.float64'>\n",
      "Cost at initial w: 75.203\n",
      "\u001b[92mAll tests passed!\n"
     ]
    }
   ],
   "source": [
    "# Compute cost with some initial values for paramaters w, b\n",
    "initial_w = 2\n",
    "initial_b = 1\n",
    "\n",
    "cost = compute_cost(x_train, y_train, initial_w, initial_b)\n",
    "print(type(cost))\n",
    "print(f'Cost at initial w: {cost:.3f}')\n",
    "\n",
    "# Public tests\n",
    "from public_tests import *\n",
    "compute_cost_test(compute_cost)"
   ]
  },
  {
   "cell_type": "markdown",
   "metadata": {},
   "source": [
    "**预期输出**:\n",
    "<table>\n",
    "  <tr>\n",
    "    <td> <b>Cost at initial w:<b> 75.203 </td> \n",
    "  </tr>\n",
    "</table>"
   ]
  },
  {
   "cell_type": "markdown",
   "metadata": {},
   "source": [
    "<a name=\"6\"></a>\n",
    "## 6 - 梯度下降\n",
    "\n",
    "在本节中，你将为线性回归的参数 $w,b$ 实现梯度。"
   ]
  },
  {
   "cell_type": "markdown",
   "metadata": {},
   "source": [
    "如讲座视频中所述，梯度下降算法为：\n",
    "\n",
    "$$\\begin{align*}& \\text{repeat until convergence:} \\; \\lbrace \\newline \\; & \\phantom {0000} b := b -  \\alpha \\frac{\\partial J(w,b)}{\\partial b} \\newline       \\; & \\phantom {0000} w := w -  \\alpha \\frac{\\partial J(w,b)}{\\partial w} \\tag{1}  \\; & \n",
    "\\newline & \\rbrace\\end{align*}$$\n",
    "\n",
    "其中，参数 $w, b$ 都同时更新，并且\n",
    "$$\n",
    "\\frac{\\partial J(w,b)}{\\partial b}  = \\frac{1}{m} \\sum\\limits_{i = 0}^{m-1} (f_{w,b}(x^{(i)}) - y^{(i)}) \\tag{2}\n",
    "$$\n",
    "$$\n",
    "\\frac{\\partial J(w,b)}{\\partial w}  = \\frac{1}{m} \\sum\\limits_{i = 0}^{m-1} (f_{w,b}(x^{(i)}) -y^{(i)})x^{(i)} \\tag{3}\n",
    "$$\n",
    "* m 是数据集中训练示例的数量\n",
    "\n",
    "    \n",
    "*  $f_{w,b}(x^{(i)})$ 是模型的预测值， $y^{(i)}$ 是目标值\n",
    "\n",
    "\n",
    "你将实现一个 `compute_gradient` 函数用来计算 $\\frac{\\partial J(w)}{\\partial w}$, $\\frac{\\partial J(w)}{\\partial b}$ "
   ]
  },
  {
   "cell_type": "markdown",
   "metadata": {
    "tags": []
   },
   "source": [
    "<a name=\"ex02\"></a>\n",
    "### Exercise 2\n",
    "\n",
    "请完成 `compute_gradient` 函数用来:\n",
    "\n",
    "* 迭代训练示例，并为每个示例计算：\n",
    "    * 该示例的模型预测\n",
    "    $$\n",
    "    f_{wb}(x^{(i)}) =  wx^{(i)} + b \n",
    "    $$\n",
    "   \n",
    "    * 该示例中参数 $w, b$ 的梯度\n",
    "        $$\n",
    "        \\frac{\\partial J(w,b)}{\\partial b}^{(i)}  =  (f_{w,b}(x^{(i)}) - y^{(i)}) \n",
    "        $$\n",
    "        $$\n",
    "        \\frac{\\partial J(w,b)}{\\partial w}^{(i)}  =  (f_{w,b}(x^{(i)}) -y^{(i)})x^{(i)} \n",
    "        $$\n",
    "    \n",
    "\n",
    "* 返回所有示例的总梯度更新\n",
    "    $$\n",
    "    \\frac{\\partial J(w,b)}{\\partial b}  = \\frac{1}{m} \\sum\\limits_{i = 0}^{m-1} \\frac{\\partial J(w,b)}{\\partial b}^{(i)}\n",
    "    $$\n",
    "    \n",
    "    $$\n",
    "    \\frac{\\partial J(w,b)}{\\partial w}  = \\frac{1}{m} \\sum\\limits_{i = 0}^{m-1} \\frac{\\partial J(w,b)}{\\partial w}^{(i)} \n",
    "    $$\n",
    "  * 这里， $m$ 是训练示例的数量， $\\sum$ 是求和算子\n",
    "\n",
    "如果你遇到困难，你可以查看下面单元格后提供的提示，以帮助你实现。"
   ]
  },
  {
   "cell_type": "code",
   "execution_count": 12,
   "metadata": {},
   "outputs": [],
   "source": [
    "# UNQ_C2\n",
    "# GRADED FUNCTION: compute_gradient\n",
    "def compute_gradient(x, y, w, b): \n",
    "    \"\"\"\n",
    "    Computes the gradient for linear regression \n",
    "    Args:\n",
    "      x (ndarray): Shape (m,) Input to the model (Population of cities) \n",
    "      y (ndarray): Shape (m,) Label (Actual profits for the cities)\n",
    "      w, b (scalar): Parameters of the model  \n",
    "    Returns\n",
    "      dj_dw (scalar): The gradient of the cost w.r.t. the parameters w\n",
    "      dj_db (scalar): The gradient of the cost w.r.t. the parameter b     \n",
    "     \"\"\"\n",
    "    \n",
    "    # Number of training examples\n",
    "    m = x.shape[0]\n",
    "    \n",
    "    # You need to return the following variables correctly\n",
    "    dj_dw = 0\n",
    "    dj_db = 0\n",
    "    \n",
    "    ### START CODE HERE ### \n",
    "    dj_dw = ((w * x + b - y) * x).mean()\n",
    "    dj_db = (w * x + b - y).mean()\n",
    "    ### END CODE HERE ### \n",
    "        \n",
    "    return dj_dw, dj_db"
   ]
  },
  {
   "cell_type": "markdown",
   "metadata": {},
   "source": [
    "运行下面的单元格以检查你对两个参数 $w$、$b$ 的不同初始化后， `compute_gradient` 函数的实现。"
   ]
  },
  {
   "cell_type": "code",
   "execution_count": 13,
   "metadata": {},
   "outputs": [
    {
     "name": "stdout",
     "output_type": "stream",
     "text": [
      "Gradient at initial w, b (zeros): -65.32884974555671 -5.839135051546393\n",
      "Using X with shape (4, 1)\n",
      "\u001b[92mAll tests passed!\n"
     ]
    }
   ],
   "source": [
    "# Compute and display gradient with w initialized to zeroes\n",
    "initial_w = 0\n",
    "initial_b = 0\n",
    "\n",
    "tmp_dj_dw, tmp_dj_db = compute_gradient(x_train, y_train, initial_w, initial_b)\n",
    "print('Gradient at initial w, b (zeros):', tmp_dj_dw, tmp_dj_db)\n",
    "\n",
    "compute_gradient_test(compute_gradient)"
   ]
  },
  {
   "cell_type": "markdown",
   "metadata": {},
   "source": [
    "现在让我们在我们的数据集上运行上面实现的梯度下降算法。\n",
    "\n",
    "**预期输出**:\n",
    "<table>\n",
    "  <tr>\n",
    "    <td> <b>Gradient at initial , b (zeros)<b></td>\n",
    "    <td> -65.32884975 -5.83913505154639</td> \n",
    "  </tr>\n",
    "</table>"
   ]
  },
  {
   "cell_type": "code",
   "execution_count": 14,
   "metadata": {},
   "outputs": [
    {
     "name": "stdout",
     "output_type": "stream",
     "text": [
      "Gradient at test w, b: -47.41610118114433 -4.007175051546392\n"
     ]
    }
   ],
   "source": [
    "# Compute and display cost and gradient with non-zero w\n",
    "test_w = 0.2\n",
    "test_b = 0.2\n",
    "tmp_dj_dw, tmp_dj_db = compute_gradient(x_train, y_train, test_w, test_b)\n",
    "\n",
    "print('Gradient at test w, b:', tmp_dj_dw, tmp_dj_db)"
   ]
  },
  {
   "cell_type": "markdown",
   "metadata": {},
   "source": [
    "**预期输出**:\n",
    "<table>\n",
    "  <tr>\n",
    "    <td> <b>Gradient at test w<b></td>\n",
    "    <td> -47.41610118 -4.007175051546391</td> \n",
    "  </tr>\n",
    "</table>"
   ]
  },
  {
   "cell_type": "markdown",
   "metadata": {},
   "source": [
    "<a name=\"2.6\"></a>\n",
    "### 2.6 使用批量梯度下降法学习参数\n",
    "\n",
    "你现在将通过使用批量梯度下降找到线性回归模型的最佳参数。召回批处理是指在一次迭代中运行所有示例。\n",
    "- 这部分不需要实现任何东西，只需运行下面的单元格。\n",
    "\n",
    "\n",
    "\n",
    "- 验证梯度下降是否正确执行的一个好方法是观察 $J(w,b)$ 的值，并检查它是否随着每一步而减少。\n",
    "\n",
    "- 假设你已经实现了梯度并正确地计算了损失，并且你有一个适当的学习率alpha值，$J(w,b)$不应该增加，并且应该在算法结束时收敛到一个稳定的值。"
   ]
  },
  {
   "cell_type": "code",
   "execution_count": 15,
   "metadata": {},
   "outputs": [],
   "source": [
    "def gradient_descent(x, y, w_in, b_in, cost_function, gradient_function, alpha, num_iters): \n",
    "    \"\"\"\n",
    "    Performs batch gradient descent to learn theta. Updates theta by taking \n",
    "    num_iters gradient steps with learning rate alpha\n",
    "    \n",
    "    Args:\n",
    "      x :    (ndarray): Shape (m,)\n",
    "      y :    (ndarray): Shape (m,)\n",
    "      w_in, b_in : (scalar) Initial values of parameters of the model\n",
    "      cost_function: function to compute cost\n",
    "      gradient_function: function to compute the gradient\n",
    "      alpha : (float) Learning rate\n",
    "      num_iters : (int) number of iterations to run gradient descent\n",
    "    Returns\n",
    "      w : (ndarray): Shape (1,) Updated values of parameters of the model after\n",
    "          running gradient descent\n",
    "      b : (scalar)                Updated value of parameter of the model after\n",
    "          running gradient descent\n",
    "    \"\"\"\n",
    "    \n",
    "    # number of training examples\n",
    "    m = len(x)\n",
    "    \n",
    "    # An array to store cost J and w's at each iteration — primarily for graphing later\n",
    "    J_history = []\n",
    "    w_history = []\n",
    "    w = copy.deepcopy(w_in)  #avoid modifying global w within function\n",
    "    b = b_in\n",
    "    \n",
    "    for i in range(num_iters):\n",
    "\n",
    "        # Calculate the gradient and update the parameters\n",
    "        dj_dw, dj_db = gradient_function(x, y, w, b )  \n",
    "\n",
    "        # Update Parameters using w, b, alpha and gradient\n",
    "        w = w - alpha * dj_dw               \n",
    "        b = b - alpha * dj_db               \n",
    "\n",
    "        # Save cost J at each iteration\n",
    "        if i<100000:      # prevent resource exhaustion \n",
    "            cost =  cost_function(x, y, w, b)\n",
    "            J_history.append(cost)\n",
    "\n",
    "        # Print cost every at intervals 10 times or as many iterations if < 10\n",
    "        if i% math.ceil(num_iters/10) == 0:\n",
    "            w_history.append(w)\n",
    "            print(f\"Iteration {i:4}: Cost {float(J_history[-1]):8.2f}   \")\n",
    "        \n",
    "    return w, b, J_history, w_history #return w and J,w history for graphing"
   ]
  },
  {
   "cell_type": "markdown",
   "metadata": {},
   "source": [
    "现在让我们运行上面的梯度下降算法来学习我们数据集的参数。"
   ]
  },
  {
   "cell_type": "code",
   "execution_count": 16,
   "metadata": {},
   "outputs": [
    {
     "name": "stdout",
     "output_type": "stream",
     "text": [
      "Iteration    0: Cost     6.74   \n",
      "Iteration  150: Cost     5.31   \n",
      "Iteration  300: Cost     4.96   \n",
      "Iteration  450: Cost     4.76   \n",
      "Iteration  600: Cost     4.64   \n",
      "Iteration  750: Cost     4.57   \n",
      "Iteration  900: Cost     4.53   \n",
      "Iteration 1050: Cost     4.51   \n",
      "Iteration 1200: Cost     4.50   \n",
      "Iteration 1350: Cost     4.49   \n",
      "w,b found by gradient descent: 1.166362350335582 -3.6302914394043597\n"
     ]
    }
   ],
   "source": [
    "# initialize fitting parameters. Recall that the shape of w is (n,)\n",
    "initial_w = 0.\n",
    "initial_b = 0.\n",
    "\n",
    "# some gradient descent settings\n",
    "iterations = 1500\n",
    "alpha = 0.01\n",
    "\n",
    "w,b,_,_ = gradient_descent(x_train ,y_train, initial_w, initial_b, \n",
    "                     compute_cost, compute_gradient, alpha, iterations)\n",
    "print(\"w,b found by gradient descent:\", w, b)"
   ]
  },
  {
   "cell_type": "markdown",
   "metadata": {},
   "source": [
    "**预期输出**:\n",
    "<table>\n",
    "  <tr>\n",
    "    <td> <b> w, b found by gradient descent<b></td>\n",
    "    <td> 1.16636235 -3.63029143940436</td> \n",
    "  </tr>\n",
    "</table>"
   ]
  },
  {
   "cell_type": "markdown",
   "metadata": {},
   "source": [
    "我们现在将使用梯度下降的最终参数来绘制线性拟合。\n",
    "\n",
    "回想一下，我们得到一个例子的预测 $f(x^{(i)})= wx^{(i)}+b$. \n",
    "\n",
    "要计算整个数据集的预测，我们可以遍历所有训练示例并计算每个示例的预测。这显示在下面的代码块中。"
   ]
  },
  {
   "cell_type": "code",
   "execution_count": 17,
   "metadata": {},
   "outputs": [],
   "source": [
    "m = x_train.shape[0]\n",
    "predicted = np.zeros(m)\n",
    "\n",
    "for i in range(m):\n",
    "    predicted[i] = w * x_train[i] + b"
   ]
  },
  {
   "cell_type": "markdown",
   "metadata": {},
   "source": [
    "我们现在将绘制预测值以查看线性拟合。"
   ]
  },
  {
   "cell_type": "code",
   "execution_count": 18,
   "metadata": {},
   "outputs": [
    {
     "data": {
      "text/plain": [
       "Text(0.5, 0, 'Population of City in 10,000s')"
      ]
     },
     "execution_count": 18,
     "metadata": {},
     "output_type": "execute_result"
    },
    {
     "data": {
      "image/png": "[encoded data removed]",
      "text/plain": [
       "<Figure size 432x288 with 1 Axes>"
      ]
     },
     "metadata": {
      "needs_background": "light"
     },
     "output_type": "display_data"
    }
   ],
   "source": [
    "# Plot the linear fit\n",
    "plt.plot(x_train, predicted, c = \"b\")\n",
    "\n",
    "# Create a scatter plot of the data. \n",
    "plt.scatter(x_train, y_train, marker='x', c='r') \n",
    "\n",
    "# Set the title\n",
    "plt.title(\"Profits vs. Population per city\")\n",
    "# Set the y-axis label\n",
    "plt.ylabel('Profit in $10,000')\n",
    "# Set the x-axis label\n",
    "plt.xlabel('Population of City in 10,000s')"
   ]
  },
  {
   "cell_type": "markdown",
   "metadata": {},
   "source": [
    "你的 $w,b$ 最终值也可用于预测利润。让我们预测一下在 35,000 和 70,000 人的区域中的利润是多少。\n",
    "\n",
    "- 该模型以一个城市的 10,000 人口作为输入。\n",
    "\n",
    "- 因此，35,000 人可以转化为模型的输入： `np.array([3.5])`\n",
    "\n",
    "- 同样，70,000 人可以转化为模型的输入：`np.array([7.])`\n"
   ]
  },
  {
   "cell_type": "code",
   "execution_count": 19,
   "metadata": {},
   "outputs": [
    {
     "name": "stdout",
     "output_type": "stream",
     "text": [
      "For population = 35,000, we predict a profit of $4519.77\n",
      "For population = 70,000, we predict a profit of $45342.45\n"
     ]
    }
   ],
   "source": [
    "predict1 = 3.5 * w + b\n",
    "print('For population = 35,000, we predict a profit of $%.2f' % (predict1*10000))\n",
    "\n",
    "predict2 = 7.0 * w + b\n",
    "print('For population = 70,000, we predict a profit of $%.2f' % (predict2*10000))"
   ]
  },
  {
   "cell_type": "markdown",
   "metadata": {},
   "source": [
    "**预期输出**:\n",
    "<table>\n",
    "  <tr>\n",
    "    <td> <b> For population = 35,000, we predict a profit of<b></td>\n",
    "    <td> $4519.77 </td> \n",
    "  </tr>\n",
    "  \n",
    "  <tr>\n",
    "    <td> <b> For population = 70,000, we predict a profit of<b></td>\n",
    "    <td> $45342.45 </td> \n",
    "  </tr>\n",
    "</table>"
   ]
  }
 ],
 "metadata": {
  "kernelspec": {
   "display_name": "Python 3 (ipykernel)",
   "language": "python",
   "name": "python3"
  },
  "language_info": {
   "codemirror_mode": {
    "name": "ipython",
    "version": 3
   },
   "file_extension": ".py",
   "mimetype": "text/x-python",
   "name": "python",
   "nbconvert_exporter": "python",
   "pygments_lexer": "ipython3",
   "version": "3.9.7"
  }
 },
 "nbformat": 4,
 "nbformat_minor": 4
}
